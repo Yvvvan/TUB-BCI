{
 "cells": [
  {
   "cell_type": "markdown",
   "metadata": {},
   "source": [
    "# Exercise Sheet 2: Head Modeling"
   ]
  },
  {
   "cell_type": "code",
   "execution_count": null,
   "metadata": {},
   "outputs": [],
   "source": [
    "import numpy as np\n",
    "from matplotlib import pyplot as plt\n",
    "from mpl_toolkits.mplot3d import Axes3D\n",
    "from scipy import constants\n",
    "import bci_minitoolbox as bci"
   ]
  },
  {
   "cell_type": "markdown",
   "metadata": {},
   "source": [
    "## Task 1: Equivalent current dipole close to a conductivity change (4 points)\n",
    "A simple way of modeling the effect a change in conductivity between two homogeneous subspaces is the so-called \"method of images\": it can be used to solve the internal field of the source subspace by a superposition of the partial solution and a homogeneous solution. The electrical field/potential of a source distribution outside of the subspace is  homogeneous within and can be used to generate correct boundary conditions. This is then added to the partial solution to get correct boundary conditions. \n",
    "\n",
    "We will only look at a very simple and abstract case, the jump from a compartment containing the source with finite conductivity (the head) to a non-conductive subspace (e.g air outside the head). This is similar as in the lecture.\n",
    "\n",
    "In this case, no current can leave the head and so the normal current on the boundary has be $J_n (x=0) =0$. This resembles von-Neumann boundary conditions.\n",
    "\n",
    "**Task:**\n",
    "\n",
    "Imagine a subspace with finite conductivity while there is a sudden change to non-conductivity at a vertical line of $x=0$.\n",
    "\n",
    "Use the functions phi_dip and J_dip from the first exercise sheet (copied below) to model the field of a dipole sitting at $r=[-2,0]$ in infinite homogeneous media. Use the same analytic solution in a different position and orientation to correct the boundary conditions. There is a restriction on the normal current to be zero while the potential can be arbitrary. \n",
    "\n",
    "Make a plot of the two variables in two dimensions similar to the one from sheet 1 task 5 from -10cm to 0cm for the x axes  -10cm to 10cm for the y axes in the x/y-plane for a dipole with dipole moment $\\vec{Q}=[20,0]fAm$. Repeat the same with $\\vec{Q}=[0,20]fAm$.\n",
    "\n",
    "Plot the potential similar as in sheet 1 using the matlpotlib function plt.contour/contourf for plotting and the field strength using the function plt.streamplot. Draw both plots into the same figure.\n",
    "\n",
    "*Hint: Think about how you can reach $J_n (x=0)=0$ by mirroring the infinite solution at the straight line $x=0$ using different values for the dipolar moment.*"
   ]
  },
  {
   "cell_type": "code",
   "execution_count": null,
   "metadata": {},
   "outputs": [],
   "source": [
    "def phi_dip(r, Q, r_0=None,sigma=0.33):\n",
    "    r=np.array(r)\n",
    "    Q=np.array(Q)    \n",
    "    if r_0 is not None:\n",
    "        r_0=np.array(r_0)\n",
    "        r=(r.T-r_0).T\n",
    "    return 1/(4*np.pi*sigma)*(np.tensordot(Q,r,1))/np.power(np.linalg.norm(r,axis=0),3)\n",
    "\n",
    "def J_dip(r, Q, r_0=None,sigma=0.33):\n",
    "    r=np.array(r)\n",
    "    Q=np.array(Q)\n",
    "    if r_0 is not None:\n",
    "        r_0=np.array(r_0)\n",
    "        r=(r.T-r_0).T   \n",
    "    nom=((3*np.tensordot(Q,r,1)*r/np.power(np.linalg.norm(r,axis=0),2)).T-Q).T\n",
    "    return (1/(4*np.pi)*nom/np.power(np.linalg.norm(r,axis=0),3))\n",
    "\n",
    "#initialize the variables (x and y in cm, p as a current dipole with 20fAm)\n",
    "x=np.arange(-10,0,0.1)\n",
    "y=np.arange(-10,10,0.1)\n",
    "r_0=np.array([-2,0])*1e-2\n",
    "Q=np.array([20,0])*1e-15\n",
    "\n",
    "#create the meshgrid for calculation and plotting (in SI --> m)\n",
    "XX,YY=np.meshgrid(x/100,y/100)\n",
    "\n",
    "\n",
    "#Calculate the potential on the whole meshgrid \n",
    "phi=\n",
    "#Calculate the current density on the whole meshgrid \n",
    "J=\n",
    "\n",
    "#Now its your turn!"
   ]
  },
  {
   "cell_type": "markdown",
   "metadata": {},
   "source": [
    "## Task 2: T1-MRI scan (1 point)\n",
    "In Magnetic Resonance Imaging (MRI), a T1-scan is often used as a structural scan of the anatomy. This can be used to extract the individual geometry of the head of a subject. T1 is a certain longitudinal relaxation time of the nuclear spin of atoms and is dependent on the individual binding of the atoms and the aggregation state of the matter. Measuring the remaining resonance after a certain time can lead to insights on the composition of the matter under study.\n",
    "The result is a spatially resololved intensity value that can be treated like any other 3-dimesnional gray-scale image.\n",
    "\n",
    "The file T1.npy contains the T1-scan of a human subject's head. In this image, the first dimension represents the direction from left to right pre-auricular point (a certain point above the ear channel on the ear conch). This direction is also called lateral. The second dimension is defined by the direction from the center between the two pre-auricular points (called the intra-auricular point) to the nasal point (on the nose between the eyes). This dimension is also called frontal. The third and last dimension is perpendicular to the other two dimensions oriented towards the top of the head. It's called the superior direction.\n",
    "\n",
    "**Tasks:**\n",
    "\n",
    "a) Use the command *imshow* from the Matplotlib to plot 3 images in each mid-plane slice of the MRI.\n",
    "\n",
    "b) Plot a histogram over the intensity values (function *hist*) in a linear and a logarithmic scale for the frequency.\n",
    "\n",
    "What can you say about the intensity values of different tissue types? Are they well separated?"
   ]
  },
  {
   "cell_type": "code",
   "execution_count": null,
   "metadata": {},
   "outputs": [],
   "source": [
    "mri=np.load('T1.npy');\n"
   ]
  },
  {
   "cell_type": "markdown",
   "metadata": {},
   "source": [
    "## Task 3: Tissue masks  (1 point)\n",
    "Correct segmentation is a non-trivial task, which a lot of scientific literature can be found on. There are automatic and semi-automatic routines, but many times  aditional manual error-correction is done if precise segmentations are needed. Here we want to look at the results of on an automatic routine developed in [Huang, Y., Dmochowski, J.P., Su, Y. and Datta, A. (2013), 'Automated mri segmentation for individualized modeling of current flow in the human head', Journal of Neural Engineering, 10(6):066004].\n",
    "\n",
    "The tissue masks extracted by this algorithm have been based upon the SPM-toolbox (http://www.fil.ion.ucl.ac.uk/spm/) and the new_segement algorithm therein. The algorithm uses a tissue probability map (TPM) extended to the neck, where local probabilities of tissue occurrence are additionally used as priors for the extraction. The MRI is first matched to the TPM by a non-linear deformation (=warp) and then the local intensities are evaluated based on their intensity value and the additional information of local tissue probability.\n",
    "\n",
    "**Tasks:**\n",
    "\n",
    "Load the files for the 6 different tissue types (air,CSF,gray matter,white matter, scalp, skull) and display them all in a medial sagittal cut (the medium vertical plane from the side of the head) with *imshow*."
   ]
  },
  {
   "cell_type": "code",
   "execution_count": null,
   "metadata": {},
   "outputs": [],
   "source": [
    "air=np.load('air.npy')\n",
    "csf=np.load('csf.npy')\n",
    "gray=np.load('gray.npy')\n",
    "scalp=np.load('scalp.npy')\n",
    "skull=np.load('skull.npy')\n",
    "white=np.load('white.npy')\n"
   ]
  },
  {
   "cell_type": "markdown",
   "metadata": {},
   "source": [
    "## Task 4: T1 intensities by tissue class  (2 points)\n",
    "As we now have the spatial distribution of differen tissue types, we can check how the different T1-intensity values are distributed within each type. \n",
    "\n",
    "**Tasks:**\n",
    "\n",
    "Therefore, plot histograms (*np.histogram*) that only consist of those parts of the MRI that belong to a certain tissue type by using the masks from exercise 2 on the MRI. The value of each MRI voxel is an intensity value.\n",
    "\n",
    "Also, plot a histogram of all 6 tissue types at once (this is different than the histograms from task 1, because the air outside the head has been removed from the segmentations). \n",
    "\n",
    "Plot all histograms into one plot. \n",
    "\n",
    "Be careful about the number of voxels per class: Normalize the output to be comparable."
   ]
  },
  {
   "cell_type": "code",
   "execution_count": null,
   "metadata": {
    "scrolled": true
   },
   "outputs": [],
   "source": []
  },
  {
   "cell_type": "markdown",
   "metadata": {},
   "source": [
    "## Task 5: 4-shell 3D-mesh of a human head  (1 point)\n",
    "From these segmented MRIs, different geometrical representations can be extracted for further numerical head modeling. For Finite Element Method (FEM) head modeling, using the voxels of the MRI as the single discrete finite elements would be the next step. We will in contrast focus on the Boundary Element Method (BEM) for head modeling. For BEM head models a representation of the boundaries between different subdomains is needed. This is mostly done in a triangular fashion, where every surface is represented by a set of vertexes (points) and the triangles connecting them.\n",
    "\n",
    "The extraction of the meshes was in our case done by the *project_mesh* algorithm of the fieldtrip tolbox (http://fieldtriptoolbox.org/), which starts with a uniform polygon for each tissue type and projects every vertex of it to the outermost position still within the specific tissue type. The results for 4-shells with tissue types brain, CSF, skull and scalp are saved in positions of vertices in 3 dimensions (pos1-pos4) and the indices of the individual vertices connected by triangles (tri1-tri4). The variable names are sorted from inside of the brain (pos1/tri1) to the scalp (pos4/tri4) and the origin is located at the intra-auricular point within the brain (center between both ears).\n",
    "\n",
    "**Tasks:**\n",
    "\n",
    "Use the *ax.plot_trisurf* function to plot the 4 shells into one 3-dimensional figure (*ax = fig.add_subplot(111, projection='3d'*) in different colors. Set the alpha level (the transparency) of each shell accordingly to be able to see the inner shells from outside."
   ]
  },
  {
   "cell_type": "code",
   "execution_count": null,
   "metadata": {},
   "outputs": [],
   "source": [
    "pos1=np.load('bnd4_pos1.npy')\n",
    "tri1=np.load('bnd4_tri1.npy')\n",
    "pos2=np.load('bnd4_pos2.npy')\n",
    "tri2=np.load('bnd4_tri2.npy')\n",
    "pos3=np.load('bnd4_pos3.npy')\n",
    "tri3=np.load('bnd4_tri3.npy')\n",
    "pos4=np.load('bnd4_pos4.npy')\n",
    "tri4=np.load('bnd4_tri4.npy')\n"
   ]
  },
  {
   "cell_type": "markdown",
   "metadata": {},
   "source": [
    "## Task 6: EEG leadfield: electrode potential  of a source (2 points)\n",
    "\n",
    "Those of you who attended the BCI-IL course in the winter term might remember the bci_minitoolbox with it's function *scalpmap*. We used this function to plot event-related potentials (ERPs) measured by EEG on a 2-dimensional scalp, which is a standard procedure in EEG analysis. Also, we plotted spatial patterns and filters with it.\n",
    "\n",
    "The file 'em2dsm.npy' contains the leadfield for the head above. This is what most headmodels in the end look like for an EEG researcher. The ledfield describes the potential on the scalp for every single modeled source within the brain. \n",
    "\n",
    "The leadfield $L$ from 'em2dsm.npy' has the dimensions (NoElec x NoSource x 3). Select an arbitrary dipole and build the inner product of the result with an arbitrary dipolar moment $p$:\n",
    "\n",
    "$v=L_i \\cdot p$. \n",
    "\n",
    "Now, we can use the *scalpmap* function to plot a simulated scalp potential from a neuronal source of the head modeling approach.\n",
    "\n",
    "Also, we will need the montage *mnt*, which sets the position for each channel. Additionally you can find the channel labels *clab* to look at the corresponding channel names (not needed to solve the task).\n",
    "\n",
    "**Tasks:**\n",
    "\n",
    "Plot the scalp potential for a dipole of your choice from the leadfield using bci.scalpmap(mnt, $v$, clim=(-*maxamp*,*maxamp*), cb_label=*labelstring*) from the bci_minitoolbox library that was used in the BCI-IL in winter term (provided on course page)."
   ]
  },
  {
   "cell_type": "code",
   "execution_count": null,
   "metadata": {},
   "outputs": [],
   "source": [
    "em2dsm=np.load('em2dsm.npy')\n",
    "mnt=np.load('mnt.npy')\n",
    "clab=np.load('clab.npy')\n"
   ]
  },
  {
   "cell_type": "markdown",
   "metadata": {},
   "source": [
    "## Task 7: The scalp potential (4 points)\n",
    "In the file 'head2dsm.npy' you can find a similar file as in task 6 but this time not mapping to the electrode locations but to the vertices of the scalp surface, which is the poistion of the modeled scalp potentials.\n",
    "\n",
    "**Tasks:**\n",
    "\n",
    "a) Chose the same dipole and dipolar moment as in task 6 and simulate the scalp potential using the file 'head2dsm.npy'.\n",
    "\n",
    "b) Plot the distribution of the potential on the brain surface using the *plot_trisurf* function from task 5 in combination with indiviudally colored triangles. The key function to this is the method *.set_facecolors(colors)* of the object returned by plot_trisurf, where colors is of shape (NoTri,3) or (NoTri,4) depending on the colormap and the RGB definition the colormap uses. \n",
    "\n",
    "*Hint: See here how to translate scalar values to RGB colormaps: https://matplotlib.org/api/cm_api.html. As the potential is defined point-wise, for plotting the color of each triangle you can use the average of the 3 surrounding points for each triangle, which are indexed in tri. An example for the use of colomaps is also given below.*\n"
   ]
  },
  {
   "cell_type": "code",
   "execution_count": null,
   "metadata": {},
   "outputs": [],
   "source": [
    "pos4=np.load('bnd4_pos4.npy')\n",
    "tri4=np.load('bnd4_tri4.npy')\n",
    "\n",
    "head2dsm=np.load('head2dsm.npy')\n",
    "\n",
    "#This is an example of how to build a colormap:\n",
    "absmax=np.max(np.abs([phis]))\n",
    "mappy=plt.cm.ScalarMappable(cmap=plt.cm.jet)\n",
    "mappy.set_clim([-absmax,absmax])\n",
    "mappy.set_array([])\n",
    "\n",
    "#This is an example of how to set the colors and use plot_trisurf with it\n",
    "fig = plt.figure(figsize=[15,6])\n",
    "ax = fig.add_subplot(111, projection='3d')\n",
    "trisufplt=ax.plot_trisurf(...)\n",
    "trisufplt.set_facecolors(mappy.to_rgba(phis))"
   ]
  }
 ],
 "metadata": {
  "anaconda-cloud": {},
  "kernelspec": {
   "display_name": "Python 3",
   "language": "python",
   "name": "python3"
  },
  "language_info": {
   "codemirror_mode": {
    "name": "ipython",
    "version": 3
   },
   "file_extension": ".py",
   "mimetype": "text/x-python",
   "name": "python",
   "nbconvert_exporter": "python",
   "pygments_lexer": "ipython3",
   "version": "3.8.3"
  }
 },
 "nbformat": 4,
 "nbformat_minor": 1
}
