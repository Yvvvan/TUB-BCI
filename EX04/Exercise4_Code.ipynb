{
 "cells": [
  {
   "cell_type": "markdown",
   "metadata": {},
   "source": [
    "# Exercise Sheet 4: Neural Mass Models & Networks"
   ]
  },
  {
   "cell_type": "code",
   "execution_count": 1,
   "metadata": {},
   "outputs": [],
   "source": [
    "import numpy as np\n",
    "from matplotlib import pyplot as plt\n",
    "from scipy import spatial\n",
    "from scipy import signal\n",
    "\n",
    "def logistic(h,a=1):\n",
    "    return 1/(1+np.exp(-a*h))\n",
    "def dlogistic(h,a=1):\n",
    "    return a*(logistic(h,a)-np.power(logistic(h,a),2))\n",
    "\n",
    "def gaussRBF(h,a=1):\n",
    "    return np.exp(-(a*h)**2)\n",
    "\n",
    "def dgaussRBF(h,a=1):\n",
    "    return -2*a**2*h*np.exp(-(a*h)**2)"
   ]
  },
  {
   "cell_type": "markdown",
   "metadata": {},
   "source": [
    "## Code given: Gradient Descent on a single neuron and an MLP\n",
    "The neuron class below from sheet 1 is extended and includes the Gradient Descent training algorithm as a method. It uses the sum of squares error to measure the output error.\n",
    "A method calculating the last local error ($\\delta$) of the neuron and one for training the neuron using the derivative of the ouput error $\\frac{dE}{dy}=y-o$ is included.\n",
    "\n",
    "The train function updates the weights by the gradient descent weight update rule $w(t+1)=w(t)-\\eta\\delta(t)\\cdot x(t)$ and the bias by $b(t+1)=b(t)-\\eta\\delta(t)$ with $\\eta$ being the learning rate. As input arguments it should get the derivative of the output error $\\frac{dE}{dy}=y-o$ and the learning rate.\n",
    "\n",
    "The class \"MLP\" includes a list of layers of type \"MLPlayer\" called \"MLP.layers\" Also, there is a method \"MLP.out(x)\" that returns the outputs of the whole network of the input vector \"x\".\n",
    "\n",
    "The size of the weight vector is set to the number of inputs for the first layer and the number of inputs for the following layers corresponds to the number of neurons in the preceding layer. The number of outputs equals the number of neurons in the last layer.\n",
    "\n",
    "The backpropagation training algorithm is included as a method \"MLP.train()\" into the class. The passed arguments should consist of the number of iterations (no stopping criteria in this case), the training input and the training output - both as function pointers - as well as the learning rate. It iterates over the layers, which themselves iterate over their neurons. Deltas and W of the following layer will allways be the input to the previous.\n",
    "\n",
    "The function pointer argument x_train has to link to a function that produce a random array of inputs of size [NoInputs,] and o_train has to produce the corresponding target function output for a given input. x_train should work without an argument passed and the target training output $o$ should be calculated using only that vector $x$.\n",
    "\n",
    "The output of the method *train()* consists of the sum-of-squares error within each iteration."
   ]
  },
  {
   "cell_type": "code",
   "execution_count": 2,
   "metadata": {},
   "outputs": [],
   "source": [
    "class neuron:    \n",
    "    lasth=0\n",
    "    lastout=0\n",
    "    lastin=0\n",
    "    \n",
    "    def __init__(self,w,b,trafunc=logistic,dtrafunc=dlogistic):\n",
    "        self.w=np.array(w)\n",
    "        self.b=np.array(b)\n",
    "        self.trafunc=trafunc\n",
    "        self.dtrafunc=dtrafunc\n",
    "        \n",
    "    def out(self, x):\n",
    "        self.lastin=x;\n",
    "        self.lasth=np.dot(self.w,x)-self.b\n",
    "        self.lastout=self.trafunc(self.lasth)\n",
    "        return self.lastout   \n",
    "    \n",
    "    def delta(self,deltanext,weightsnext):\n",
    "        df=self.dtrafunc(self.lasth)\n",
    "        self.lastdelta=np.dot(deltanext,weightsnext)*df     \n",
    "        return self.lastdelta\n",
    "    \n",
    "    def train(self,deltanext,weightsnext,learnrate=0.1):\n",
    "        self.delta(deltanext,weightsnext)\n",
    "        self.w=self.w-learnrate*self.lastdelta*self.lastin\n",
    "        self.b=self.b+learnrate*self.lastdelta\n",
    "        return self.lastdelta\n",
    "\n",
    "class MLPlayer:\n",
    "    def __init__(self,NodeNo,WeightNo,weightinit=np.random.randn,biasinit=np.random.randn,trafunc=logistic,dtrafunc=dlogistic):\n",
    "        self.nodes=[neuron(weightinit(WeightNo),biasinit(1),trafunc,dtrafunc) for i in range(NodeNo)]\n",
    "    def out(self,x):\n",
    "        return np.ravel([n.out(x) for n in self.nodes])\n",
    "    def train(self,deltanext,W,learnrate=0.1):    \n",
    "        Wo=np.array([n.w for n in self.nodes]).T\n",
    "        deltas=np.array([ n.train(deltanext,W[ineur],learnrate) for ineur,n in enumerate(self.nodes)]).T\n",
    "        return deltas, Wo\n",
    "\n",
    "class MLP:\n",
    "    def __init__(self,InputNo,NodeNos,weightinit=np.random.randn,biasinit=np.random.randn,trafunc=logistic,dtrafunc=dlogistic):        \n",
    "        self.NodeNos=np.append(InputNo,NodeNos)\n",
    "        self.layers=[MLPlayer(self.NodeNos[i+1],self.NodeNos[i],weightinit,biasinit,trafunc,dtrafunc) for i in range(self.NodeNos.size-1)]\n",
    "    def out(self,x):\n",
    "        for i in range(len(self.layers)):\n",
    "            x=self.layers[i].out(x)\n",
    "        self.lastout=x\n",
    "        return x\n",
    "    def train(self,NumIt,x_train,o_train,learnrate=0.1):\n",
    "        errors=np.zeros(NumIt)\n",
    "        for i in range(NumIt):\n",
    "            if callable(x_train):\n",
    "                x=x_train()\n",
    "            else:\n",
    "                x=x_train[i]\n",
    "            if callable(o_train):\n",
    "                o=o_train(x)\n",
    "            else:   \n",
    "                o=o_train[i]                       \n",
    "            y=self.out(x)\n",
    "            if len(y)==1:\n",
    "                o=np.array([o]) \n",
    "                y=np.array([y])\n",
    "            deltas=y-o\n",
    "            W=np.eye(y.shape[0])   \n",
    "            for il, l in enumerate(reversed(self.layers)): \n",
    "                deltas, W=l.train(deltas,W,learnrate)\n",
    "            errors[i]=0.5*np.sum(np.power(y-o,2))       \n",
    "        return errors"
   ]
  },
  {
   "cell_type": "markdown",
   "metadata": {},
   "source": [
    "## Task 1: logical functions (2 points - programming)\n",
    "Train a single neuron on the logical functions below for a two-dimensional input $x$. Use instances of the neuron class above to build the equivalents to logical \"or\",\"and\" and \"xor\"-functions and test them for 2-dimensional input vectors *x* resembling all possibilities of combinations ([0,0] [1,0], [0,1], [1,1]). Do 10.000 iterations and plot the evolution of the error (the error over the iteration number). You don't need to implement a stopping criterion.\n",
    "\n",
    "Set the learning rate to $\\eta=1$ and initialize the weight $w$ and the bias $b$ randomly with normal distribution (np.random.randn). Use the logistic function.\n",
    "\n",
    "In the next cell you find an exemplary random number generator and the corresponding functions you can use for sample creation in every single iteration. In every iteration use the random input $x$, the neuron output *$y=$neuron.out($x$)* and the training data $o=targefunction(x)$"
   ]
  },
  {
   "cell_type": "code",
   "execution_count": 3,
   "metadata": {},
   "outputs": [],
   "source": [
    "def train_and_display(NumIt,neuron1,inputfunc,targetfunc):\n",
    "    errors=np.zeros(NumIt)\n",
    "    for i in range(NumIt):\n",
    "        x=inputfunc()\n",
    "        neuron1.train(neuron1.out(x)-targetfunc(x),1)\n",
    "        errors[i]=0.5*np.sum(np.power(neuron1.out(x)-targetfunc(x),2))\n",
    "    plt.plot(errors)\n",
    "    return neuron1"
   ]
  },
  {
   "cell_type": "code",
   "execution_count": 4,
   "metadata": {},
   "outputs": [],
   "source": [
    "# neuron out: x -> w*x-b\n",
    "# tragetfunc: x -> and(x),or(x),xor(x)"
   ]
  },
  {
   "cell_type": "code",
   "execution_count": 5,
   "metadata": {},
   "outputs": [],
   "source": [
    "# x:\n",
    "random_input = lambda :np.random.randint(2,size=(2,))\n",
    "\n",
    "# w:\n",
    "w = np.random.randn(2)\n",
    "\n",
    "# b:\n",
    "b = np.random.randn(1)"
   ]
  },
  {
   "cell_type": "code",
   "execution_count": 6,
   "metadata": {
    "scrolled": false
   },
   "outputs": [
    {
     "data": {
      "image/png": "[encoded data removed]",
      "text/plain": [
       "<Figure size 432x288 with 1 Axes>"
      ]
     },
     "metadata": {
      "needs_background": "light"
     },
     "output_type": "display_data"
    },
    {
     "data": {
      "image/png": "[encoded data removed]",
      "text/plain": [
       "<Figure size 432x288 with 1 Axes>"
      ]
     },
     "metadata": {
      "needs_background": "light"
     },
     "output_type": "display_data"
    },
    {
     "data": {
      "image/png": "[encoded data removed]",
      "text/plain": [
       "<Figure size 432x288 with 1 Axes>"
      ]
     },
     "metadata": {
      "needs_background": "light"
     },
     "output_type": "display_data"
    }
   ],
   "source": [
    "neuron1 = neuron(w, b) \n",
    "\n",
    "# and\n",
    "train_and_display(10000, neuron1, random_input, lambda x:x[0] & x[1])\n",
    "plt.title('and')\n",
    "plt.show()\n",
    "\n",
    "# or\n",
    "train_and_display(10000, neuron1, random_input, lambda x:x[0] | x[1])\n",
    "plt.title('or')\n",
    "plt.show()\n",
    "\n",
    "# xor\n",
    "train_and_display(10000, neuron1, random_input, lambda x:x[0] ^ x[1])\n",
    "plt.title('xor')\n",
    "plt.show()"
   ]
  },
  {
   "cell_type": "markdown",
   "metadata": {},
   "source": [
    "## Task 2 Train an MLP on the XOR (2 points - programming)\n",
    "Train a Multi-Layer-Perceptron on the logical \"xor\"-function. Do the same training on an XOR as in exercise sheet 2 task 5, using an architecture of 2 and then 3 neurons in the first layer and one output neuron in the second (you may use the sample solution code). Do 10.000 iterations and plot the evolution of the error. You don't need to implement a stopping criterion. Use the logistic transfer function.\n",
    "\n",
    "Set the learning rate to $\\eta=1$.\n",
    "\n",
    "Investigate the following steps:\n",
    "\n",
    "a) The network should consist of two layers, where the first has the two input neurons and the second only one output neuron. Does it always converge?\n",
    "\n",
    "b) The network should consist of two layers, where the first has the three  input neurons and the second only one output neuron. Does it now always converge?\n",
    "\n",
    "What can we learn from this?\n",
    "\n",
    "The MLP is already implemented above.\n",
    "The syntax of the contained MLP class is:\n",
    "*NeuralNetwork=MLP(NoInputs,ListNoNeuronsPerLayer)*\n",
    "for initialization and \n",
    "*errors=NeuralNetwork.train(NoIterations,x, o ,learnrate)* for training. $x$ and $o$ can either be function pointers as defined or arrays of samples. If they are functions, $x$ has to produce a random array of inputs of size [NoInputs,] and $o(x)$ has to produce the corresponding target function output. If they are samples they have to have the shape *x.shape=[NoIterations,NoInputs]* and *o.shape=[NoIterations,NoOutputs]*.\n",
    "\n",
    "See descriptions above for further explanations.\n",
    "\n"
   ]
  },
  {
   "cell_type": "markdown",
   "metadata": {},
   "source": [
    "## a)two input and one output: it doesn't always converge."
   ]
  },
  {
   "cell_type": "code",
   "execution_count": 11,
   "metadata": {},
   "outputs": [
    {
     "data": {
      "text/plain": [
       "[<matplotlib.lines.Line2D at 0x7ff5e84e07f0>]"
      ]
     },
     "execution_count": 11,
     "metadata": {},
     "output_type": "execute_result"
    },
    {
     "data": {
      "image/png": "[encoded data removed]",
      "text/plain": [
       "<Figure size 921.6x345.6 with 2 Axes>"
      ]
     },
     "metadata": {
      "needs_background": "light"
     },
     "output_type": "display_data"
    }
   ],
   "source": [
    "neuralnet1_1 = MLP(2,[2,1])\n",
    "neuralnet1_2 = MLP(2,[2,1])\n",
    "errors1_1 = neuralnet1_1.train(10000, random_input,lambda x:x[0] ^ x[1],1)\n",
    "errors1_2 = neuralnet1_2.train(10000, random_input,lambda x:x[0] ^ x[1],1)\n",
    "\n",
    "fig = plt.figure(figsize=[12.8, 4.8])\n",
    "ax = plt.subplot(121)\n",
    "plt.plot(errors1_1)\n",
    "ax = plt.subplot(122)\n",
    "plt.plot(errors1_2)"
   ]
  },
  {
   "cell_type": "code",
   "execution_count": 12,
   "metadata": {},
   "outputs": [],
   "source": [
    "# It is not always converged after 10,000 iteration according to the plots."
   ]
  },
  {
   "cell_type": "markdown",
   "metadata": {},
   "source": [
    "## b)three input and one output: it always converges."
   ]
  },
  {
   "cell_type": "code",
   "execution_count": 13,
   "metadata": {},
   "outputs": [
    {
     "data": {
      "text/plain": [
       "[<matplotlib.lines.Line2D at 0x7ff5e2c89100>]"
      ]
     },
     "execution_count": 13,
     "metadata": {},
     "output_type": "execute_result"
    },
    {
     "data": {
      "image/png": "[encoded data removed]",
      "text/plain": [
       "<Figure size 432x288 with 1 Axes>"
      ]
     },
     "metadata": {
      "needs_background": "light"
     },
     "output_type": "display_data"
    }
   ],
   "source": [
    "neuralnet2 = MLP(2,[3,1])\n",
    "errors2 = neuralnet2.train(10000, random_input,lambda x:x[0] ^ x[1],1)\n",
    "plt.plot(errors2)"
   ]
  },
  {
   "cell_type": "code",
   "execution_count": 14,
   "metadata": {},
   "outputs": [],
   "source": [
    "# It isconverged after 10,000 iteration according to the plots."
   ]
  },
  {
   "cell_type": "markdown",
   "metadata": {},
   "source": [
    "## what can we learn from this?"
   ]
  },
  {
   "cell_type": "markdown",
   "metadata": {},
   "source": []
  },
  {
   "cell_type": "code",
   "execution_count": 15,
   "metadata": {},
   "outputs": [],
   "source": [
    "# More layers, the neuron network converges more, we get a more solide result."
   ]
  },
  {
   "cell_type": "markdown",
   "metadata": {},
   "source": [
    "## Task 3: A neural network described by a connectivity matrix (5 points - programming)\n",
    "We will now translate the network described by objects into a connectivity matrix and then iterate over points in time in order to propagate the input to the output.\n",
    "\n",
    "The connectivity is only supposed to be close to instantaneous in this task, we will introduce delay between different areas in the next task. The connectivity is hence a matrix $W$ of size (NoNeurons, NoNeurons).\n",
    "\n",
    "The vector of network state variables $\\mathbf{x}_t$  at time point $t$ shall include the input in the first variables. The new state $\\mathbf{x}_{t+1}$ for the next time step is calculated by:\n",
    "$\\mathbf{x}_{t+1}=f(\\mathbf{h})=f(\\mathbf{W} \\cdot \\mathbf{x}_{t} -\\mathbf{b})$\n",
    "\n",
    "**Tasks:**\n",
    "\n",
    "a) Calculate the connectivity matrix $W$ and the bias vector $\\mathbf{b}$ out of the MLP from task 2 b) (if you have not succeeded with training the MLP simply use a feedforward MLP of size (3,1) with arbitrary wiring). To this extent, translate layerwise indexed neurons into a unique index across layers and then connect neurons from each layer only with the preceeding layer/the input, respectively. Print the matrix to command line.\n",
    "\n",
    "b) Simulate a propagation of a random logic vector of size 2 (as in task 2) until it reaches the output layer. This means iteration over time points, where in each time point the output $f(\\mathbf{h})$ from the preceeding time point $t$  is used as the input for the next time point $t+1$. Print the state variables $x_t$ at every step and the output of the network at the end to the command line."
   ]
  },
  {
   "cell_type": "markdown",
   "metadata": {},
   "source": [
    "## a)M & b"
   ]
  },
  {
   "cell_type": "code",
   "execution_count": 16,
   "metadata": {},
   "outputs": [],
   "source": [
    "W = np.zeros((6, 6))"
   ]
  },
  {
   "cell_type": "code",
   "execution_count": 17,
   "metadata": {},
   "outputs": [],
   "source": [
    "W[2][0] = neuralnet2.layers[0].nodes[0].w[0] # if we use the notation in class, this is the weight x1 -> node3\n",
    "W[2][1] = neuralnet2.layers[0].nodes[0].w[1] # x2 -> node3\n",
    "W[3][0] = neuralnet2.layers[0].nodes[1].w[0] # x1 -> node4\n",
    "W[3][1] = neuralnet2.layers[0].nodes[1].w[1] # x2 -> node4\n",
    "W[4][0] = neuralnet2.layers[0].nodes[2].w[0] # x1 -> node5\n",
    "W[4][1] = neuralnet2.layers[0].nodes[2].w[1] # x2 -> node5\n",
    "W[5][2] = neuralnet2.layers[1].nodes[0].w[0] # node3 -> node6\n",
    "W[5][3] = neuralnet2.layers[1].nodes[0].w[1] # node4 -> node6\n",
    "W[5][4] = neuralnet2.layers[1].nodes[0].w[2] # node5 -> node6"
   ]
  },
  {
   "cell_type": "code",
   "execution_count": 18,
   "metadata": {},
   "outputs": [
    {
     "data": {
      "text/plain": [
       "array([[ 0.    ,  0.    ,  0.    ,  0.    ,  0.    ,  0.    ],\n",
       "       [ 0.    ,  0.    ,  0.    ,  0.    ,  0.    ,  0.    ],\n",
       "       [ 6.3244, -4.2505,  0.    ,  0.    ,  0.    ,  0.    ],\n",
       "       [ 6.2787,  5.4037,  0.    ,  0.    ,  0.    ,  0.    ],\n",
       "       [ 2.4426, -5.8812,  0.    ,  0.    ,  0.    ,  0.    ],\n",
       "       [ 0.    ,  0.    , -8.1261,  6.6025,  8.117 ,  0.    ]])"
      ]
     },
     "execution_count": 18,
     "metadata": {},
     "output_type": "execute_result"
    }
   ],
   "source": [
    "np.round(W,4)"
   ]
  },
  {
   "cell_type": "code",
   "execution_count": 19,
   "metadata": {},
   "outputs": [],
   "source": [
    "b = np.array([0,\n",
    "              0,\n",
    "              neuralnet2.layers[0].nodes[0].b[0],\n",
    "              neuralnet2.layers[0].nodes[1].b[0],\n",
    "              neuralnet2.layers[0].nodes[2].b[0],\n",
    "              neuralnet2.layers[1].nodes[0].b[0]]).reshape(6,1)"
   ]
  },
  {
   "cell_type": "code",
   "execution_count": 20,
   "metadata": {},
   "outputs": [
    {
     "data": {
      "text/plain": [
       "array([[ 0.    ],\n",
       "       [ 0.    ],\n",
       "       [-1.7509],\n",
       "       [ 1.7661],\n",
       "       [ 0.095 ],\n",
       "       [ 2.2128]])"
      ]
     },
     "execution_count": 20,
     "metadata": {},
     "output_type": "execute_result"
    }
   ],
   "source": [
    "np.round(b,4)"
   ]
  },
  {
   "cell_type": "markdown",
   "metadata": {},
   "source": [
    "## b)simulate"
   ]
  },
  {
   "cell_type": "code",
   "execution_count": 21,
   "metadata": {},
   "outputs": [],
   "source": [
    "# the input x should be x=[x1,x2] as we used before\n",
    "# the input to the Wx-b should be xt= [x1, x2, node00, node01, node02, node10(output)]\n",
    "f = logistic\n",
    "x0 = np.append(random_input(), [0, 0, 0, 0]).reshape(6,1)   \n",
    "x1 = f(np.dot(W,x0)-b)\n",
    "x2 = f(np.dot(W,x1)-b)\n",
    "y = np.round(x2[-1])"
   ]
  },
  {
   "cell_type": "code",
   "execution_count": 22,
   "metadata": {},
   "outputs": [
    {
     "data": {
      "text/plain": [
       "array([[1],\n",
       "       [0],\n",
       "       [0],\n",
       "       [0],\n",
       "       [0],\n",
       "       [0]])"
      ]
     },
     "execution_count": 22,
     "metadata": {},
     "output_type": "execute_result"
    }
   ],
   "source": [
    "np.round(x0,4) # the input [x1,x2,nodes...]"
   ]
  },
  {
   "cell_type": "code",
   "execution_count": 23,
   "metadata": {},
   "outputs": [
    {
     "data": {
      "text/plain": [
       "array([[0.5   ],\n",
       "       [0.5   ],\n",
       "       [0.9997],\n",
       "       [0.9891],\n",
       "       [0.9127],\n",
       "       [0.0986]])"
      ]
     },
     "execution_count": 23,
     "metadata": {},
     "output_type": "execute_result"
    }
   ],
   "source": [
    "np.round(x1,4) # the input has gone throght the fisrt layer. "
   ]
  },
  {
   "cell_type": "code",
   "execution_count": 24,
   "metadata": {},
   "outputs": [
    {
     "data": {
      "text/plain": [
       "array([[0.5   ],\n",
       "       [0.5   ],\n",
       "       [0.942 ],\n",
       "       [0.9833],\n",
       "       [0.1401],\n",
       "       [0.9735]])"
      ]
     },
     "execution_count": 24,
     "metadata": {},
     "output_type": "execute_result"
    }
   ],
   "source": [
    "np.round(x2,4) # the result of first layer went throght the second layer"
   ]
  },
  {
   "cell_type": "code",
   "execution_count": 25,
   "metadata": {},
   "outputs": [
    {
     "name": "stdout",
     "output_type": "stream",
     "text": [
      "x1= 1, x2= 0,\n",
      "y=(x1)xor(x2)= 1\n"
     ]
    }
   ],
   "source": [
    "print('x1= %d, x2= %d,\\ny=(x1)xor(x2)= %d'%(x0[0],x0[1],y))"
   ]
  },
  {
   "cell_type": "markdown",
   "metadata": {},
   "source": [
    "## Task 6 : Neural Mass Model (6 points - programming)\n",
    "\n",
    "We will now look at a neural mass model based on the source positions from our head model (gridpos.npy).\n",
    "You will find the connected equations again on the last slides of the current lecture.\n",
    "\n",
    "\n",
    "** Tasks: **\n",
    "\n",
    "a) Derive the distance matrix $\\mathbf{D}$ from the source positions in gridpos using scipy.spatial.distance_matrix(...).\n",
    "\n",
    "b) Calculate the matrix of weights $\\mathbf{W}_0$ with dimensionality (NoSources,NoSources) by distance without delay using the equation $\\mathbf{W}=a_0 e^{b_0\\mathbf{D}}+a_1 e^{b_1\\mathbf{D}}$. Use $a_0=0.03$, $b_0=10$ for replicating excitatory connections and $a_1=-0.25$ and $b_1=50$ for inhibitory. Plot the matrix $\\mathbf{W}_0$ using imshow.\n",
    "\n",
    "c) Calculate the delay $\\Delta t=D/c+\\Delta t_0$ for each connection by using the transmission speed $c=0.5 \\frac{m}{s}$ and the synaptic delay $\\Delta t_0=2ms$ as a matrix corresponding to the dimensions of $\\mathbf{D}$. Then introduce a sampling rate of $fs=1000Hz$ and discretize the delay into time samples. Calculate the maximal time delay $T$.\n",
    "\n",
    "d) Combine the results of b) and c) into an array of size (NoSources,NoSources,MaxDelay) by expanding $W_0$ into the time domain/delay. We will call this array $W$.\n",
    "\n",
    "e) Simulate the multi-variate time course for a random starting point of the network over $1s$ with $fs=1000Hz$ by creating a random array X of size (NoSources,MaxDelay) with uniform distribution (np.random.rand) and then propagate activity over time. To this extent, use the current state history array $\\mathbf{X}$ of the network to calculate the source activity vector for the next time step by $\\mathbf{y}=f(\\mathbf{W} \\odot \\mathbf{X})$. $\\odot$ can be calculated using np.tensordot(W,X,axes=2). Then $\\mathbf{X}$ can be shifted like a circular buffer so that the oldest source activity vector is discarded while the newest is set to $\\mathbf{y}$."
   ]
  },
  {
   "cell_type": "code",
   "execution_count": 26,
   "metadata": {},
   "outputs": [],
   "source": [
    "gridpos=np.load('/Users/changmincheng/Desktop/BCI/Lecture 3/Exercise3_headmodel/gridpos.npy')\n",
    "Nsource=gridpos.shape[0]"
   ]
  },
  {
   "cell_type": "code",
   "execution_count": 27,
   "metadata": {},
   "outputs": [
    {
     "data": {
      "text/plain": [
       "3990"
      ]
     },
     "execution_count": 27,
     "metadata": {},
     "output_type": "execute_result"
    }
   ],
   "source": [
    "Nsource"
   ]
  },
  {
   "cell_type": "markdown",
   "metadata": {},
   "source": [
    "## a) distance matrix D"
   ]
  },
  {
   "cell_type": "code",
   "execution_count": 28,
   "metadata": {},
   "outputs": [
    {
     "data": {
      "text/plain": [
       "array([[0.    , 0.0038, 0.0038, ..., 0.1585, 0.1591, 0.1607],\n",
       "       [0.0038, 0.    , 0.0042, ..., 0.1567, 0.1573, 0.1584],\n",
       "       [0.0038, 0.0042, 0.    , ..., 0.1558, 0.1569, 0.1585],\n",
       "       ...,\n",
       "       [0.1585, 0.1567, 0.1558, ..., 0.    , 0.0242, 0.0359],\n",
       "       [0.1591, 0.1573, 0.1569, ..., 0.0242, 0.    , 0.0267],\n",
       "       [0.1607, 0.1584, 0.1585, ..., 0.0359, 0.0267, 0.    ]])"
      ]
     },
     "execution_count": 28,
     "metadata": {},
     "output_type": "execute_result"
    }
   ],
   "source": [
    "D = spatial.distance_matrix(gridpos,gridpos) # Dij =the distance between source i and j\n",
    "np.round(D,4) # diagonal = 0, distance from a point to itself is 0."
   ]
  },
  {
   "cell_type": "markdown",
   "metadata": {},
   "source": [
    "## b) the first weight matrix W0"
   ]
  },
  {
   "cell_type": "code",
   "execution_count": 29,
   "metadata": {},
   "outputs": [],
   "source": [
    "a0 = 0.03\n",
    "b0 = 10\n",
    "a1 = -0.25\n",
    "b1 = 50\n",
    "#w0ij=a0*e^{b0*dij}+a1*e^{b1*dij}\n",
    "W0 = np.zeros((Nsource, Nsource))\n",
    "for i in range(Nsource):\n",
    "    for j in range(Nsource):\n",
    "        W0[i][j] = a0 * np.exp( -1 * b0 * D[i][j]) + a1 * np.exp(- 1 * b1 * D[i][j])"
   ]
  },
  {
   "cell_type": "code",
   "execution_count": 30,
   "metadata": {},
   "outputs": [
    {
     "data": {
      "text/plain": [
       "array([[-0.22  , -0.1782, -0.1776, ...,  0.0061,  0.006 ,  0.0059],\n",
       "       [-0.1782, -0.22  , -0.1738, ...,  0.0062,  0.0061,  0.0061],\n",
       "       [-0.1776, -0.1738, -0.22  , ...,  0.0062,  0.0061,  0.0061],\n",
       "       ...,\n",
       "       [ 0.0061,  0.0062,  0.0062, ..., -0.22  , -0.0509, -0.0206],\n",
       "       [ 0.006 ,  0.0061,  0.0061, ..., -0.0509, -0.22  , -0.043 ],\n",
       "       [ 0.0059,  0.0061,  0.0061, ..., -0.0206, -0.043 , -0.22  ]])"
      ]
     },
     "execution_count": 30,
     "metadata": {},
     "output_type": "execute_result"
    }
   ],
   "source": [
    "np.round(W0,4) # to check if the calculation is right: diagonal = a0*e^0+a1*e^0 = a0+a1 = 0.03-0.25 =-0.22"
   ]
  },
  {
   "cell_type": "markdown",
   "metadata": {},
   "source": [
    "## c) maximal delay T"
   ]
  },
  {
   "cell_type": "code",
   "execution_count": 31,
   "metadata": {},
   "outputs": [],
   "source": [
    "fs=100 # it taks too long to calculate fs=1000, here chose 100\n",
    "c=0.5\n",
    "wde=10\n",
    "wdi=50\n",
    "t0 = 0.002"
   ]
  },
  {
   "cell_type": "code",
   "execution_count": 32,
   "metadata": {},
   "outputs": [
    {
     "data": {
      "text/plain": [
       "array([[ 0.2   ,  0.9525,  0.9655, ..., 31.9003, 32.0294, 32.3483],\n",
       "       [ 0.9525,  0.2   ,  1.0407, ..., 31.5306, 31.6576, 31.8725],\n",
       "       [ 0.9655,  1.0407,  0.2   , ..., 31.363 , 31.5814, 31.8954],\n",
       "       ...,\n",
       "       [31.9003, 31.5306, 31.363 , ...,  0.2   ,  5.0443,  7.3749],\n",
       "       [32.0294, 31.6576, 31.5814, ...,  5.0443,  0.2   ,  5.5306],\n",
       "       [32.3483, 31.8725, 31.8954, ...,  7.3749,  5.5306,  0.2   ]])"
      ]
     },
     "execution_count": 32,
     "metadata": {},
     "output_type": "execute_result"
    }
   ],
   "source": [
    "delta_t = ( D/c + t0) * fs # delta_t ij = the delay between source i and source j\n",
    "np.round(delta_t,4)"
   ]
  },
  {
   "cell_type": "code",
   "execution_count": 33,
   "metadata": {},
   "outputs": [
    {
     "data": {
      "text/plain": [
       "34.0"
      ]
     },
     "execution_count": 33,
     "metadata": {},
     "output_type": "execute_result"
    }
   ],
   "source": [
    "T = np.floor(delta_t.max()) # the maximum delay \n",
    "T"
   ]
  },
  {
   "cell_type": "markdown",
   "metadata": {},
   "source": [
    "## d) weight matrix W = [W0, W1, ... W_T]"
   ]
  },
  {
   "cell_type": "code",
   "execution_count": 34,
   "metadata": {},
   "outputs": [],
   "source": [
    "# at current time, all transmissions are done, means we have all weights, so W0 is full\n",
    "# at time delay 1, because of the longest distance and speef of transmission, \n",
    "### there were some neurons not 'activated'. they didn't work, their weights=0.\n",
    "### means if delta_t(ij) > T, w1(ij) =0; else wij = w0ij\n",
    "# at time delay T-1, the transmissions are only finished in the shortest distance.(t<1)\n",
    "\n",
    "W=[W0]\n",
    "delta_t_t = delta_t.copy()\n",
    "for t in range(int(T)):\n",
    "    W_t = W[-1].copy()\n",
    "    delay_t = T - t\n",
    "    W_t[ delta_t_t > delay_t] = 0\n",
    "    delta_t_t[ delta_t >= delay_t] = 0\n",
    "    W.append(W_t)"
   ]
  },
  {
   "cell_type": "code",
   "execution_count": 35,
   "metadata": {},
   "outputs": [
    {
     "data": {
      "text/plain": [
       "35"
      ]
     },
     "execution_count": 35,
     "metadata": {},
     "output_type": "execute_result"
    }
   ],
   "source": [
    "len(W)"
   ]
  },
  {
   "cell_type": "code",
   "execution_count": 36,
   "metadata": {},
   "outputs": [
    {
     "data": {
      "text/plain": [
       "array([[-0.22  , -0.1782, -0.1776, ...,  0.    ,  0.    ,  0.    ],\n",
       "       [-0.1782, -0.22  ,  0.    , ...,  0.    ,  0.    ,  0.    ],\n",
       "       [-0.1776,  0.    , -0.22  , ...,  0.    ,  0.    ,  0.    ],\n",
       "       ...,\n",
       "       [ 0.    ,  0.    ,  0.    , ..., -0.22  ,  0.    ,  0.    ],\n",
       "       [ 0.    ,  0.    ,  0.    , ...,  0.    , -0.22  ,  0.    ],\n",
       "       [ 0.    ,  0.    ,  0.    , ...,  0.    ,  0.    , -0.22  ]])"
      ]
     },
     "execution_count": 36,
     "metadata": {},
     "output_type": "execute_result"
    }
   ],
   "source": [
    " np.round(W[-1],4) # check W_T  the element in W_T has a delay < 1"
   ]
  },
  {
   "cell_type": "code",
   "execution_count": 37,
   "metadata": {},
   "outputs": [],
   "source": [
    "W = np.array(W)"
   ]
  },
  {
   "cell_type": "code",
   "execution_count": 38,
   "metadata": {},
   "outputs": [
    {
     "data": {
      "text/plain": [
       "(3990, 3990, 35)"
      ]
     },
     "execution_count": 38,
     "metadata": {},
     "output_type": "execute_result"
    }
   ],
   "source": [
    "W.swapaxes(2,0).shape"
   ]
  },
  {
   "cell_type": "markdown",
   "metadata": {},
   "source": [
    "## e) Simulation"
   ]
  },
  {
   "cell_type": "code",
   "execution_count": 39,
   "metadata": {},
   "outputs": [],
   "source": [
    "X = np.random.randn(Nsource,(int(T)+1))"
   ]
  },
  {
   "cell_type": "code",
   "execution_count": 40,
   "metadata": {},
   "outputs": [
    {
     "data": {
      "text/plain": [
       "(3990, 35)"
      ]
     },
     "execution_count": 40,
     "metadata": {},
     "output_type": "execute_result"
    }
   ],
   "source": [
    "X.shape"
   ]
  },
  {
   "cell_type": "code",
   "execution_count": 41,
   "metadata": {},
   "outputs": [],
   "source": [
    "#Weight goes from 0 to T, T means Delay, so we remove x[35] and move every element toward x[35]\n",
    "#add new one at x[0]\n",
    "for i in range(int(T)):\n",
    "    y= logistic(np.tensordot(W.swapaxes(2,0),X,axes=2))\n",
    "    X = np.vstack((y,X[:,0:34].swapaxes(1,0))).swapaxes(1,0)"
   ]
  },
  {
   "cell_type": "code",
   "execution_count": 44,
   "metadata": {},
   "outputs": [
    {
     "data": {
      "text/plain": [
       "array([6.62749355e-25, 2.68171746e-28, 1.85383265e-28, ...,\n",
       "       6.94151962e-60, 1.12309930e-59, 1.64598012e-53])"
      ]
     },
     "execution_count": 44,
     "metadata": {},
     "output_type": "execute_result"
    }
   ],
   "source": [
    "y"
   ]
  },
  {
   "cell_type": "code",
   "execution_count": 45,
   "metadata": {},
   "outputs": [
    {
     "data": {
      "text/plain": [
       "3990"
      ]
     },
     "execution_count": 45,
     "metadata": {},
     "output_type": "execute_result"
    }
   ],
   "source": [
    "y.shape[0]"
   ]
  },
  {
   "cell_type": "code",
   "execution_count": null,
   "metadata": {},
   "outputs": [],
   "source": []
  }
 ],
 "metadata": {
  "anaconda-cloud": {},
  "kernelspec": {
   "display_name": "Python 3",
   "language": "python",
   "name": "python3"
  },
  "language_info": {
   "codemirror_mode": {
    "name": "ipython",
    "version": 3
   },
   "file_extension": ".py",
   "mimetype": "text/x-python",
   "name": "python",
   "nbconvert_exporter": "python",
   "pygments_lexer": "ipython3",
   "version": "3.8.5"
  }
 },
 "nbformat": 4,
 "nbformat_minor": 1
}
