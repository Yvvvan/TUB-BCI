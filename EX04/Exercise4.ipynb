{
 "cells": [
  {
   "cell_type": "markdown",
   "metadata": {},
   "source": [
    "# Exercise Sheet 4: Neural Mass Models & Networks"
   ]
  },
  {
   "cell_type": "code",
   "execution_count": 2,
   "metadata": {},
   "outputs": [],
   "source": [
    "import numpy as np\n",
    "from matplotlib import pyplot as plt\n",
    "from scipy import spatial\n",
    "from scipy import signal\n",
    "\n",
    "def logistic(h,a=1):\n",
    "    return 1/(1+np.exp(-a*h))\n",
    "def dlogistic(h,a=1):\n",
    "    return a*(logistic(h,a)-np.power(logistic(h,a),2))\n",
    "\n",
    "def gaussRBF(h,a=1):\n",
    "    return np.exp(-(a*h)**2)\n",
    "\n",
    "def dgaussRBF(h,a=1):\n",
    "    return -2*a**2*h*np.exp(-(a*h)**2)"
   ]
  },
  {
   "cell_type": "markdown",
   "metadata": {},
   "source": [
    "## Code given: Gradient Descent on a single neuron and an MLP\n",
    "The neuron class below from sheet 1 is extended and includes the Gradient Descent training algorithm as a method. It uses the sum of squares error to measure the output error.\n",
    "A method calculating the last local error ($\\delta$) of the neuron and one for training the neuron using the derivative of the ouput error $\\frac{dE}{dy}=y-o$ is included.\n",
    "\n",
    "The train function updates the weights by the gradient descent weight update rule $w(t+1)=w(t)-\\eta\\delta(t)\\cdot x(t)$ and the bias by $b(t+1)=b(t)-\\eta\\delta(t)$ with $\\eta$ being the learning rate. As input arguments it should get the derivative of the output error $\\frac{dE}{dy}=y-o$ and the learning rate.\n",
    "\n",
    "The class \"MLP\" includes a list of layers of type \"MLPlayer\" called \"MLP.layers\" Also, there is a method \"MLP.out(x)\" that returns the outputs of the whole network of the input vector \"x\".\n",
    "\n",
    "The size of the weight vector is set to the number of inputs for the first layer and the number of inputs for the following layers corresponds to the number of neurons in the preceding layer. The number of outputs equals the number of neurons in the last layer.\n",
    "\n",
    "The backpropagation training algorithm is included as a method \"MLP.train()\" into the class. The passed arguments should consist of the number of iterations (no stopping criteria in this case), the training input and the training output - both as function pointers - as well as the learning rate. It iterates over the layers, which themselves iterate over their neurons. Deltas and W of the following layer will allways be the input to the previous.\n",
    "\n",
    "The function pointer argument x_train has to link to a function that produce a random array of inputs of size [NoInputs,] and o_train has to produce the corresponding target function output for a given input. x_train should work without an argument passed and the target training output $o$ should be calculated using only that vector $x$.\n",
    "\n",
    "The output of the method *train()* consists of the sum-of-squares error within each iteration."
   ]
  },
  {
   "cell_type": "code",
   "execution_count": 3,
   "metadata": {},
   "outputs": [],
   "source": [
    "class neuron:    \n",
    "    lasth=0\n",
    "    lastout=0\n",
    "    lastin=0\n",
    "    \n",
    "    def __init__(self,w,b,trafunc=logistic,dtrafunc=dlogistic):\n",
    "        self.w=np.array(w)\n",
    "        self.b=np.array(b)\n",
    "        self.trafunc=trafunc\n",
    "        self.dtrafunc=dtrafunc\n",
    "        \n",
    "    def out(self, x):\n",
    "        self.lastin=x;\n",
    "        self.lasth=np.dot(self.w,x)-self.b\n",
    "        self.lastout=self.trafunc(self.lasth)\n",
    "        return self.lastout   \n",
    "    \n",
    "    def delta(self,deltanext,weightsnext):\n",
    "        df=self.dtrafunc(self.lasth)\n",
    "        self.lastdelta=np.dot(deltanext,weightsnext)*df     \n",
    "        return self.lastdelta\n",
    "    \n",
    "    def train(self,deltanext,weightsnext,learnrate=0.1):\n",
    "        self.delta(deltanext,weightsnext)\n",
    "        self.w=self.w-learnrate*self.lastdelta*self.lastin\n",
    "        self.b=self.b+learnrate*self.lastdelta\n",
    "        return self.lastdelta\n",
    "\n",
    "class MLPlayer:\n",
    "    def __init__(self,NodeNo,WeightNo,weightinit=np.random.randn,biasinit=np.random.randn,trafunc=logistic,dtrafunc=dlogistic):\n",
    "        self.nodes=[neuron(weightinit(WeightNo),biasinit(1),trafunc,dtrafunc) for i in range(NodeNo)]\n",
    "    def out(self,x):\n",
    "        return np.ravel([n.out(x) for n in self.nodes])\n",
    "    def train(self,deltanext,W,learnrate=0.1):    \n",
    "        Wo=np.array([n.w for n in self.nodes]).T\n",
    "        deltas=np.array([ n.train(deltanext,W[ineur],learnrate) for ineur,n in enumerate(self.nodes)]).T\n",
    "        return deltas, Wo\n",
    "\n",
    "class MLP:\n",
    "    def __init__(self,InputNo,NodeNos,weightinit=np.random.randn,biasinit=np.random.randn,trafunc=logistic,dtrafunc=dlogistic):        \n",
    "        self.NodeNos=np.append(InputNo,NodeNos)\n",
    "        self.layers=[MLPlayer(self.NodeNos[i+1],self.NodeNos[i],weightinit,biasinit,trafunc,dtrafunc) for i in range(self.NodeNos.size-1)]\n",
    "    def out(self,x):\n",
    "        for i in range(len(self.layers)):\n",
    "            x=self.layers[i].out(x)\n",
    "        self.lastout=x\n",
    "        return x\n",
    "    def train(self,NumIt,x_train,o_train,learnrate=0.1):\n",
    "        errors=np.zeros(NumIt)\n",
    "        for i in range(NumIt):\n",
    "            if callable(x_train):\n",
    "                x=x_train()\n",
    "            else:\n",
    "                x=x_train[i]\n",
    "            if callable(o_train):\n",
    "                o=o_train(x)\n",
    "            else:   \n",
    "                o=o_train[i]                       \n",
    "            y=self.out(x)\n",
    "            if len(y)==1:\n",
    "                o=np.array([o]) \n",
    "                y=np.array([y])\n",
    "            deltas=y-o\n",
    "            W=np.eye(y.shape[0])   \n",
    "            for il, l in enumerate(reversed(self.layers)): \n",
    "                deltas, W=l.train(deltas,W,learnrate)\n",
    "            errors[i]=0.5*np.sum(np.power(y-o,2))       \n",
    "        return errors"
   ]
  },
  {
   "cell_type": "markdown",
   "metadata": {},
   "source": [
    "## Task 1: logical functions (2 points - programming)\n",
    "Train a single neuron on the logical functions below for a two-dimensional input $x$. Use instances of the neuron class above to build the equivalents to logical \"or\",\"and\" and \"xor\"-functions and test them for 2-dimensional input vectors *x* resembling all possibilities of combinations ([0,0] [1,0], [0,1], [1,1]). Do 10.000 iterations and plot the evolution of the error (the error over the iteration number). You don't need to implement a stopping criterion.\n",
    "\n",
    "Set the learning rate to $\\eta=1$ and initialize the weight $w$ and the bias $b$ randomly with normal distribution (np.random.randn). Use the logistic function.\n",
    "\n",
    "In the next cell you find an exemplary random number generator and the corresponding functions you can use for sample creation in every single iteration. In every iteration use the random input $x$, the neuron output *$y=$neuron.out($x$)* and the training data $o=targefunction(x)$"
   ]
  },
  {
   "cell_type": "code",
   "execution_count": 4,
   "metadata": {},
   "outputs": [],
   "source": [
    "def train_and_display(NumIt,neuron1,inputfunc,targetfunc):\n",
    "    errors=np.zeros(NumIt)\n",
    "    for i in range(NumIt):\n",
    "        x=inputfunc()\n",
    "        neuron1.train(neuron1.out(x)-targetfunc(x),1)\n",
    "        errors[i]=0.5*np.sum(np.power(neuron1.out(x)-targetfunc(x),2))\n",
    "    plt.plot(errors)\n",
    "    return neuron1"
   ]
  },
  {
   "cell_type": "code",
   "execution_count": 14,
   "metadata": {},
   "outputs": [],
   "source": [
    "peter=lambda :np.random.randint(2,size=(2,))"
   ]
  },
  {
   "cell_type": "code",
   "execution_count": 34,
   "metadata": {},
   "outputs": [
    {
     "data": {
      "text/plain": [
       "array([1, 0])"
      ]
     },
     "execution_count": 34,
     "metadata": {},
     "output_type": "execute_result"
    }
   ],
   "source": [
    "peter()"
   ]
  },
  {
   "cell_type": "code",
   "execution_count": 35,
   "metadata": {
    "scrolled": false
   },
   "outputs": [
    {
     "data": {
      "text/plain": [
       "<__main__.neuron at 0x1f1b5164e80>"
      ]
     },
     "execution_count": 35,
     "metadata": {},
     "output_type": "execute_result"
    },
    {
     "data": {
      "image/png": "[encoded data removed]",
      "text/plain": [
       "<Figure size 432x288 with 1 Axes>"
      ]
     },
     "metadata": {
      "needs_background": "light"
     },
     "output_type": "display_data"
    }
   ],
   "source": [
    "neuron1=neuron([1,1],1.5)\n",
    "train_and_display(1000,neuron1, peter,lambda x:x[0]+x[1])"
   ]
  },
  {
   "cell_type": "markdown",
   "metadata": {},
   "source": [
    "## Task 2 Train an MLP on the XOR (2 points - programming)\n",
    "Train a Multi-Layer-Perceptron on the logical \"xor\"-function. Do the same training on an XOR as in exercise 1, using an architecture of 2 and then 3 neurons in the first layer and one output neuron in the second (you may use the sample solution code). Do 10.000 iterations and plot the evolution of the error. You don't need to implement a stopping criterion. Use the logistic transfer function.\n",
    "\n",
    "Set the learning rate to $\\eta=1$.\n",
    "\n",
    "Investigate the following steps:\n",
    "\n",
    "a) The network should consist of two layers, where the first has the two input neurons and the second only one output neuron. Does it always converge?\n",
    "\n",
    "b) The network should consist of two layers, where the first has the three  input neurons and the second only one output neuron. Does it now always converge?\n",
    "\n",
    "What can we learn from this?\n",
    "\n",
    "The MLP is already implemented above.\n",
    "The syntax of the contained MLP class is:\n",
    "*NeuralNetwork=MLP(NoInputs,ListNoNeuronsPerLayer)*\n",
    "for initialization and \n",
    "*errors=NeuralNetwork.train(NoIterations,x, o ,learnrate)* for training. $x$ and $o$ can either be function pointers as defined or arrays of samples. If they are functions, $x$ has to produce a random array of inputs of size [NoInputs,] and $o(x)$ has to produce the corresponding target function output. If they are samples they have to have the shape *x.shape=[NoIterations,NoInputs]* and *o.shape=[NoIterations,NoOutputs]*.\n",
    "\n",
    "See descriptions above for further explanations.\n",
    "\n"
   ]
  },
  {
   "cell_type": "code",
   "execution_count": 41,
   "metadata": {},
   "outputs": [],
   "source": [
    "neuralnet=MLP(2,[2,1])"
   ]
  },
  {
   "cell_type": "code",
   "execution_count": 51,
   "metadata": {},
   "outputs": [
    {
     "data": {
      "text/plain": [
       "array([0.24220773])"
      ]
     },
     "execution_count": 51,
     "metadata": {},
     "output_type": "execute_result"
    }
   ],
   "source": [
    "neuralnet.out(peter())\n",
    "neuralnet.train()"
   ]
  },
  {
   "cell_type": "markdown",
   "metadata": {},
   "source": [
    "## Task 3: A neural network described by a connectivity matrix (5 points - programming)\n",
    "We will now translate the network described by objects into a connectivity matrix and then iterate over points in time in order to propagate the input to the output.\n",
    "\n",
    "The connectivity is only supposed to be close to instantaneous in this task, we will introduce delay between different areas in the next task. The connectivity is hence a matrix $W$ of size (NoNeurons, NoNeurons).\n",
    "\n",
    "The vector of network state variables $\\mathbf{x}_t$  at time point $t$ shall include the input in the first variables. The new state $\\mathbf{x}_{t+1}$ for the next time step is calculated by:\n",
    "$\\mathbf{x}_{t+1}=f(\\mathbf{h})=f(\\mathbf{W} \\cdot \\mathbf{x}_{t} -\\mathbf{b})$\n",
    "\n",
    "**Tasks:**\n",
    "\n",
    "a) Calculate the connectivity matrix $W$ and the bias vector $\\mathbf{b}$ out of the MLP from task 2 b) (if you have not succeeded with training the MLP simply use a feedforward MLP of size (3,1) with arbitrary wiring). To this extent, translate layerwise indexed neurons into a unique index across layers and then connect neurons from each layer only with the preceeding layer/the input, respectively. Print the matrix to command line.\n",
    "\n",
    "b) Simulate a propagation of a random logic vector of size 2 (as in task 2) until it reaches the output layer. This means iteration over time points, where in each time point the output $f(\\mathbf{h})$ from the preceeding time point $t$  is used as the input for the next time point $t+1$. Print the state variables $x_t$ at every step and the output of the network at the end to the command line."
   ]
  },
  {
   "cell_type": "code",
   "execution_count": 59,
   "metadata": {},
   "outputs": [
    {
     "data": {
      "text/plain": [
       "array([ 1.11016402, -1.06883706])"
      ]
     },
     "execution_count": 59,
     "metadata": {},
     "output_type": "execute_result"
    }
   ],
   "source": [
    "neuralnet.layers[0].nodes[0].w"
   ]
  },
  {
   "cell_type": "markdown",
   "metadata": {},
   "source": [
    "## Task 4 : Neural Mass Model (6 points - programming)\n",
    "\n",
    "We will now look at a neural mass model based on the source positions from our head model (gridpos.npy).\n",
    "You will find the connected equations again on the last slides of the current lecture.\n",
    "\n",
    "\n",
    "** Tasks: **\n",
    "\n",
    "a) Derive the distance matrix $\\mathbf{D}$ from the source positions in gridpos using scipy.spatial.distance_matrix(...).\n",
    "\n",
    "b) Calculate the matrix of weights $\\mathbf{W}_0$ with dimensionality (NoSources,NoSources) by distance without delay using the equation $\\mathbf{W}=a_0 e^{b_0\\mathbf{D}}+a_1 e^{b_1\\mathbf{D}}$. Use $a_0=0.03$, $b_0=10$ for replicating excitatory connections and $a_1=-0.25$ and $b_1=50$ for inhibitory. Plot the matrix $\\mathbf{W}_0$ using imshow.\n",
    "\n",
    "c) Calculate the delay $\\Delta t=\\frac{\\mathbf{D}}{c}+\\Delta t_0$ for each connection by using the transmission speed $c=0.5 \\frac{m}{s}$ and the synaptic delay $\\Delta t_0=2ms$ as a matrix corresponding to the dimensions of $\\mathbf{D}$. Then introduce a sampling rate of $fs=100Hz$ and discretize the delay into time samples. Calculate the maximal time delay $T$.\n",
    "\n",
    "d) Combine the results of b) and c) into an array of size (NoSources,NoSources,MaxDelay+1) by expanding $W_0$ into the time domain/delay. We will call this array $W$.\n",
    "\n",
    "e) Simulate the multi-variate time course for a random starting point of the network over $1s$ with $fs=100Hz$ by creating a random array X of size (NoSources,MaxDelay+1) with uniform distribution (np.random.rand) and then propagate activity over time. To this extent, use the current state history array $\\mathbf{X}$ of the network to calculate the source activity vector for the next time step by $\\mathbf{y}=f(\\mathbf{W} \\odot \\mathbf{X})$. $\\odot$ can be calculated using np.tensordot(W,X,axes=2). Then $\\mathbf{X}$ can be shifted like a circular buffer so that the oldest source activity vector is discarded while the newest is set to $\\mathbf{y}$."
   ]
  },
  {
   "cell_type": "code",
   "execution_count": null,
   "metadata": {},
   "outputs": [],
   "source": [
    "gridpos=np.load('gridpos.npy')\n",
    "fs=1000\n",
    "c=0.5\n",
    "wde=10\n",
    "wdi=50\n",
    "T0=2\n",
    "Nsource=gridpos.shape[0]\n",
    "\n"
   ]
  },
  {
   "cell_type": "code",
   "execution_count": 71,
   "metadata": {},
   "outputs": [],
   "source": [
    "p0=[0,0,0]\n",
    "p1=[0,0,1]\n",
    "fs=1000"
   ]
  },
  {
   "cell_type": "code",
   "execution_count": 75,
   "metadata": {},
   "outputs": [],
   "source": [
    "DeltaT=(0.5*spatial.distance_matrix([p0,p1],[p0,p1])+0.002)*fs"
   ]
  },
  {
   "cell_type": "code",
   "execution_count": 76,
   "metadata": {},
   "outputs": [
    {
     "data": {
      "text/plain": [
       "array([[  2., 502.],\n",
       "       [502.,   2.]])"
      ]
     },
     "execution_count": 76,
     "metadata": {},
     "output_type": "execute_result"
    }
   ],
   "source": [
    "DeltaT"
   ]
  }
 ],
 "metadata": {
  "anaconda-cloud": {},
  "kernelspec": {
   "display_name": "Python 3",
   "language": "python",
   "name": "python3"
  },
  "language_info": {
   "codemirror_mode": {
    "name": "ipython",
    "version": 3
   },
   "file_extension": ".py",
   "mimetype": "text/x-python",
   "name": "python",
   "nbconvert_exporter": "python",
   "pygments_lexer": "ipython3",
   "version": "3.8.3"
  }
 },
 "nbformat": 4,
 "nbformat_minor": 1
}
