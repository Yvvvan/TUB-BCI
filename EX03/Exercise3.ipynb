{
 "cells": [
  {
   "cell_type": "markdown",
   "metadata": {},
   "source": [
    "# Exercise Sheet 3: Head Modeling & Non-linear dynamics"
   ]
  },
  {
   "cell_type": "code",
   "execution_count": null,
   "metadata": {
    "scrolled": true
   },
   "outputs": [],
   "source": [
    "import numpy as np\n",
    "from matplotlib import pyplot as plt\n",
    "from scipy import signal as signal\n",
    "def logistic(h,a=1):\n",
    "    return 1/(1+np.exp(-a*h))\n"
   ]
  },
  {
   "cell_type": "markdown",
   "metadata": {},
   "source": [
    "## Task 1: BEM vs infinite solution  (5 points)\n",
    "\n",
    "\n",
    "The file 'cortex2dsm.npy', lets call it again $L$ is similar to the leadfields of the last sheet but this time mapping to the cortex surface. Again, you have to select a dipole and the dipolar moments $q$. The voltage is then calculated by $v=L_i \\cdot q$.\n",
    "\n",
    "**Tasks:**\n",
    "\n",
    "a) Chose an arbitrary dipole and a dipolar moment yourself and simulate the field using the BEM head model.\n",
    "\n",
    "b) Then, calculate the anayltical solution for an infinite homogeneous current dipole at the cortex surface vertices (positions) for the same source location and dipolar moment. Source conductivity is $\\sigma_1=0.201$. You can find the source position $r_q$ for the dipole in 'gridpos.npy' which has the same indexing as the leadfield.\n",
    "\n",
    "c) Plot the distribution of the potential on the brain surface using the *plot_trisurf* function similar as in task 7 sheet 2 in combination with indiviudally colored triangles.\n",
    "\n",
    "c) Also, use the simple *plot* function to plot the voltage for both the analytic solution in infiinite space and the BEM soution on the cortex surface over the vertex index to get a closer look at individual values.\n",
    "\n",
    "Are the solutions equal? Investigate and explain the difference. "
   ]
  },
  {
   "cell_type": "code",
   "execution_count": null,
   "metadata": {
    "scrolled": true
   },
   "outputs": [],
   "source": [
    "def phi_dip(r, Q, r_0=None,sigma=0.33):\n",
    "    r=np.array(r)\n",
    "    Q=np.array(Q)    \n",
    "    if r_0 is not None:\n",
    "        r_0=np.array(r_0)\n",
    "        r=(r.T-r_0).T\n",
    "    return 1/(4*np.pi*sigma)*(np.tensordot(Q,r,1))/np.power(np.linalg.norm(r,axis=0),3)\n",
    "\n",
    "pos1=np.load('bnd4_pos1.npy')\n",
    "tri1=np.load('bnd4_tri1.npy')\n",
    "\n",
    "cortex2dsm=np.load('cortex2dsm.npy')\n",
    "gridpos=np.load('gridpos.npy')\n",
    "pos1=np.load('bnd4_pos1.npy')\n",
    "tri1=np.load('bnd4_tri1.npy')\n",
    "NoTri=tri1.shape[0]\n",
    "NoPnt=pos1.shape[0]\n"
   ]
  },
  {
   "cell_type": "code",
   "execution_count": null,
   "metadata": {
    "scrolled": true
   },
   "outputs": [],
   "source": []
  },
  {
   "cell_type": "markdown",
   "metadata": {},
   "source": [
    "## Task 2: The effect of the non-linear transfer function: simulation (5 points)\n",
    "\n",
    "\n",
    "**Tasks:**\n",
    "\n",
    "a) Write a function simulating a sine-wave $x(t)=a*sin(\\omega t)+b=a*sin(2\\pi f t)+b$. Simulate a time interval of 10s with a sampling rate of fs=200Hz and plot it over the first $0.5s$ with $a=1$ for the amplitude, $b=0$ for the offset and $f=10Hz$ for the frequency.\n",
    "\n",
    "b) Calculate the Power-Spectral-Density (PSD) of the signal and plot it over the frequency. For calculating the PSD, use the welch algorithm (scipy.signal.welch) and plot it using a logarithmic scale (10*log10(Pxx)). Clip the PSD at -80dB. Use a 10s snippet of the signal for calculating the PSD.\n",
    "\n",
    "c) Use the logistic function $y(x)=\\frac{1}{1+e^{-ax}}$ on the signal $x(t)$ as a non-linear time-invariant amplitude transformation. Do this for all possible combinations of the following amplitudes and offsets of the sine wave: a={0.5, 1, 10} and b={-2,-1,0, 1, 2}. Calculate and plot the PSD as in b).\n",
    "\n",
    "d) The signal in a) and b) is a pure sine wave, which as a fourier transform has a single peak in the frequency spectrum. Explain the differences to the PSD of the sine wave (b) and the effect of the non-linear transformation on the PSD (c)."
   ]
  },
  {
   "cell_type": "code",
   "execution_count": null,
   "metadata": {
    "scrolled": true
   },
   "outputs": [],
   "source": []
  },
  {
   "cell_type": "markdown",
   "metadata": {},
   "source": [
    "## Task 3: The effect of the non-linear transfer function: analytic & simulation (5 points)\n",
    "\n",
    "With a little trick, the clipping of an oscillating signal like a cosine wave y(t) can be seen as a linear operation: the multiplication with a rectangular oscillation x(t) of same frequency and apropriate phase. We ignore the DC part in this exercise. This models the \"on/off\" effect of the clipping:\n",
    "\n",
    "$z(t)=x(t)y(t)$\n",
    "\n",
    "For the periodic rectangular time series defined within a period $T_0=\\frac{1}{f_0}$ (note that this is a little bit different than in the lecture):\n",
    "\n",
    "$x (t) = \\left\\{\n",
    "\\begin{array}{ll}\n",
    "1  & \\, \\textrm{for} \\left|t\\right| \\leq T_1 \\\\\n",
    "0 & \\, \\textrm{else} \\\\\n",
    "\\end{array}\n",
    "\\right.$\n",
    "\n",
    "the corresponding fourier transform (here one-sided) is based on the delta function:\n",
    "\n",
    "$\\hat{x}(f)=\\frac{T_1}{T_0} \\delta(f)+\\sum_{n=1}^\\infty \\frac{\\sin^2(\\pi n\\frac{T_1}{T_0})}{\\pi n} \\delta(f-\\frac{n}{T_0})$\n",
    "\n",
    "A cosine wave of frequency $f_0$ has the fourier transform:\n",
    "\n",
    "$\\hat{y}(f)=2 \\pi \\delta (f-f_0)$\n",
    "\n",
    "In the theory of Fourier Transformation, a multiplicatiion in time domain corresponds to a convolution in the frequency:\n",
    "\n",
    "$z(t)=x(t)y(t) <=> z(f)=\\hat{x}(f) * \\hat{y}(f)$\n",
    "\n",
    "with the convolution being:\n",
    "\n",
    "$\\hat{x}(f)*\\hat{y}(f)=\\int_{-\\infty}^{\\infty}\\hat{x}(f-f')\\hat{y}(f')df'$\n",
    "\n",
    "**Task:**\n",
    "\n",
    "a) Calculate the Fourier Transform $\\hat{z}(f)$ of the signal $z(t)$ analyitcally by convolving $\\hat{x}(f)$ and $\\hat{y}(f)$ in the frequency domain.\n",
    "\n",
    "b) Implement the corresponding function for plotting and plot the amplitde spectrum for a clipped 10Hz. Set $T_1$ consequently to $\\frac{1}{4}T_0$, $\\frac{1}{2}T_0$ and $\\frac{3}{4}T_0$. Plot the delta function using the matplot functiion stem. What are the corresponding clipping values?\n",
    "\n",
    "c) Investigate the values at $nf_0$ and their dependency on the frequency.\n",
    "What is the effect of the clipping in the spectrum? What implications does the non-linear effect of clipping have on clipped sine waves (single frequency peaks) and white noise (spectrum is constant over frequency)?\n",
    "\n",
    "\n",
    "*Hint: For the convolution, think about the special properties of the dirac delta function $\\delta(x)$."
   ]
  },
  {
   "cell_type": "markdown",
   "metadata": {},
   "source": [
    "Solution to a):\n",
    "\n",
    "$\\hat{z}(f)=$"
   ]
  },
  {
   "cell_type": "code",
   "execution_count": null,
   "metadata": {
    "scrolled": true
   },
   "outputs": [],
   "source": []
  }
 ],
 "metadata": {
  "anaconda-cloud": {},
  "kernelspec": {
   "display_name": "Python 3",
   "language": "python",
   "name": "python3"
  },
  "language_info": {
   "codemirror_mode": {
    "name": "ipython",
    "version": 3
   },
   "file_extension": ".py",
   "mimetype": "text/x-python",
   "name": "python",
   "nbconvert_exporter": "python",
   "pygments_lexer": "ipython3",
   "version": "3.8.3"
  }
 },
 "nbformat": 4,
 "nbformat_minor": 1
}
