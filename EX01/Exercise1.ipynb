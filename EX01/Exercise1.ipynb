{
 "cells": [
  {
   "cell_type": "markdown",
   "metadata": {},
   "source": [
    "# Exercise Sheet 1: Neurons"
   ]
  },
  {
   "cell_type": "code",
   "execution_count": null,
   "metadata": {},
   "outputs": [],
   "source": [
    "import numpy as np\n",
    "from scipy import constants\n",
    "from matplotlib import pyplot as plt"
   ]
  },
  {
   "cell_type": "markdown",
   "metadata": {},
   "source": [
    "## Task 1: The logistic function (1 point - programming)\n",
    "Write a function \"logistic(h,a=1)\" resembling the logistic function and a second function \"signtrafunc\" the binary (sign-based) tranfer function. Also write a function \"dlogistic(h,a=1)\" resembling the derivative of the logistic function. Similarly, write a \"gaussRBF(h,a=1)\" resembling the gaussian Radial Basis Function and \"dgaussRBF(h,a=1)\" its derivative.\n",
    "\n",
    "Plot each of them in the range of -10 to 10 together with their derivative (except for the sign-based function) with  matplotlibs plot function (plt.plot)).\n",
    "\n",
    "For defining the sign-based transfer function the inline definition of functions using the syntax trafunc=lambda h: f(h) might be handy, please write the logistic function, however, as a classical function definition. The a=1 in the function definition sets the default to a=1 so the function needs only 1 argument by default."
   ]
  },
  {
   "cell_type": "code",
   "execution_count": null,
   "metadata": {},
   "outputs": [],
   "source": [
    "def logistic(h,a=1):\n",
    "    return\n",
    "\n",
    "signtrafunc=lambda h:"
   ]
  },
  {
   "cell_type": "markdown",
   "metadata": {},
   "source": [
    "## Task 2: Building an artificial neuron  (2 points - programming)\n",
    "Define a class \"neuron\" resembling a simple perceptron. See https://docs.python.org/3/tutorial/classes.html for help on classes.\n",
    "\n",
    "It should have the attributes \"neuron.w\" for the weights, \"neuron.b\" for the bias, the methods \"neuron.trafunc(self,h)\" for the transfer function, \"neuron.dtrafunc(self,h)\"  for the first derivative of the transfer function and the method \"neuron.out(self,x)\" to calculate the output for inputs *x* and *h* respectively. \n",
    "\n",
    "Build a constructor method \"\\__init\\__(self,...)\", where self refers to the object itself, which assigns the weight vector *w*, the bias *b* , the transfer function \"trafunc\" and it's derivative \"dtrafunc\" to the neuron.\n",
    "\n",
    "The transfer function and its derivative should best be assigned at construction in order to acccount for different possible transfer functions. You do not need to ser a transfer function, yet, but you may implement the logistic function as the default transfer function."
   ]
  },
  {
   "cell_type": "code",
   "execution_count": null,
   "metadata": {},
   "outputs": [],
   "source": [
    "class neuron:\n",
    "    def __init__(self):\n",
    "    \n",
    "    def out(self, x):        \n",
    "            "
   ]
  },
  {
   "cell_type": "markdown",
   "metadata": {},
   "source": [
    "## Task 3: Use an artificial neuron (3 points - thinking and programming)\n",
    "Use instances of the neuron class above to build the equivalents to logical \"or\" and \"and\"-functions using the binary (sign-based) transfer function and test them for 2-dimensional input vectors *x* resembling all possibilities of combinations ([0,0] [1,0], [0,1], [1,1]) by setting the weights and bias manually.\n",
    "\n",
    "First, use the sign-based transfer function to solve the task with exact solution and then apply the same weights w and bias b on a neuron with the logistic and gaussian RBF transfer functions.\n",
    "\n",
    "What's the difference?\n",
    "\n",
    "We do not need the derivatives, here, so they may be set to anything. In particular, the sign-based function does not have a derivative.\n",
    "\n",
    "*Hint: if you haven't succeeded with Task 2, you can solve Task 3 analytically and write down the needed weights and results.*"
   ]
  },
  {
   "cell_type": "code",
   "execution_count": null,
   "metadata": {},
   "outputs": [],
   "source": [
    "w=\n",
    "b=\n",
    "\n",
    "neuron1=neuron(w,b,signtrafunc)\n"
   ]
  },
  {
   "cell_type": "markdown",
   "metadata": {},
   "source": [
    "## Task 4: The electrical field strength (4 points - analytic derivation)\n",
    "Analytically derive the electrical field strength $\\vec{E}=-\\nabla\\phi$ of an electrostatic dipole field at origin in an inifinite homogeneous otherwise charge-free space step-by-step from the potential equation $\\phi(\\vec{r})=\\frac{1}{4\\pi\\epsilon_0}\\frac{\\vec{p}\\cdot\\vec{r}}{\\left|\\vec{r}\\right|^3}$ in Cartesian coordinates.\n",
    "\n",
    "To this extent you will need to build the gradient $\\nabla=\\left(\n",
    "\\begin{array}{c}\n",
    "\t\\frac{\\delta}{\\delta x}\\\\\n",
    "\t\\frac{\\delta}{\\delta y}\\\\\n",
    "\t\\frac{\\delta}{\\delta z}\n",
    "\\end{array}\n",
    "\\right)$!\n",
    "\n",
    "You can take the dipolar moment $\\vec{p}$ to be a constant vector $\\vec{p}=\\left(\n",
    "\\begin{array}{c}\n",
    "\tp_x\\\\\n",
    "\tp_y\\\\\n",
    "\tp_z\n",
    "\\end{array}\n",
    "\\right)$. \n",
    "\n",
    "The vector $\\vec{r}=\\left(\n",
    "\\begin{array}{c}\n",
    "\tx\\\\\n",
    "\ty\\\\\n",
    "\tz\n",
    "\\end{array}\n",
    "\\right)$ is the coordinates in cartesian coordinates and  the norm is the euclidean norm $\\left|\\vec{r}\\right|=\\sqrt{x^2+y^2+z^2}$.\n",
    "\n",
    "*Hint: You can hand in the solution in your format of choice: Write direclty below (Markdown takes latex within $$, jsut double-click on the cell below), Pdf from Latex or Word, scan or photo of a hand-written derivation, etc....*"
   ]
  },
  {
   "cell_type": "markdown",
   "metadata": {},
   "source": [
    "### Solution:\n",
    "$\\vec{E}=- \\nabla \\phi=\\left(\n",
    "\\begin{array}{c}\n",
    "\t\\frac{\\delta}{\\delta x}\\\\\n",
    "\t\\frac{\\delta}{\\delta y}\\\\\n",
    "\t\\frac{\\delta}{\\delta z}\n",
    "\\end{array}\n",
    "\\right) \\phi$"
   ]
  },
  {
   "cell_type": "markdown",
   "metadata": {},
   "source": [
    "## Task 5: Current density & potential of a single PSP (5 points - programming)\n",
    "Write a python function resembling the electrical field potential $\\phi(\\vec{r},\\vec{r}_q)$ and another one for the current density $\\vec{J}$ of a current dipole in infinite homogeneous conductive space at point $\\vec{r}_q$ in Cartesian coordinates. The function should take the position of the observed point $\\vec{r}$, the position of the dipole $\\vec{r}_q$, the current density produced by the source  $\\vec{Q}$ and the conductivity $\\sigma$ as inputs and return the resulting scalar potential/the current density of the volumce conduction, respectively.  $\\vec{r}_q$ should be set to the origin by default. \n",
    "\n",
    "$\\phi(\\vec{r})=\\frac{1}{4\\pi\\sigma}\\frac{\\vec{Q}\\cdot\\left(\\vec{r}-\\vec{r}_q\\right)}{\\left|\\vec{r}-\\vec{r}_q\\right|^3}$\n",
    "\n",
    "$\\vec{J}=\\frac{1}{4 \\pi } \\left(3 \\frac{\\left(\\vec{r}-\\vec{r}_q\\right) \\cdot \\vec{Q}}{\\left|\\vec{r}-\\vec{r}_q\\right|^5} \\cdot \\left(\\vec{r}-\\vec{r}_q\\right)-\\frac{\\vec{Q}}{\\left|\\vec{r}-\\vec{r}_q\\right|^3}\\right)$\n",
    "\n",
    "$\\sigma$ is the specific conductivity of the material (a constant) and $\\vec{Q}$ is the current density at the source (neuron). For brain tissue, the conductivity is around $\\sigma=0.33\\frac{S}{m}$.\n",
    "\n",
    "Make a plot of the two variables in two dimensions from -10cm to 10cm for both axes in the x/y-plane for a dipole at origin with dipole moment $\\vec{Q}=[20,0]fAm$.\n",
    "Plot the potential using the matlpotlib function plt.contour for plotting and the current density using the function plt.streamplot. Draw both plots into the same figure.\n",
    "\n",
    "Hints: \n",
    "- Numpy's tensordot might simplify the treatment of multiple positions at once.\n",
    "- The arguments to the plot function call for $\\vec{J}$- and $\\phi$- values need the shape corresponding to the XX and YY variables from np.meshgrid.\n",
    "- Increase the number of contours in plt.contour to get a nicer distribution of isopotential lines or better use a logarithmic scaling\n",
    "- you may use contourf to add colors\n",
    "\n"
   ]
  },
  {
   "cell_type": "code",
   "execution_count": null,
   "metadata": {
    "scrolled": false
   },
   "outputs": [],
   "source": [
    "#initialize the variables (x and y in cm, Q as a current dipole with 20fAm)\n",
    "x=np.arange(-10,10,0.1)\n",
    "y=np.arange(-10,10,0.1)\n",
    "r_q=[0,0]\n",
    "Q=np.array([20,0])*1e-15;\n",
    "\n",
    "#create the meshgrid for calculation and plotting (in SI --> m)\n",
    "XX,YY=np.meshgrid(x/100,y/100)\n",
    "\n",
    "\n",
    "#Calculate the potential on the whole meshgrid \n",
    "phi=phi_dip([XX,YY],Q,r_q)\n",
    "#Calculate the current source density on the whole meshgrid \n",
    "J=J_dip([XX,YY],Q,r_q)"
   ]
  }
 ],
 "metadata": {
  "anaconda-cloud": {},
  "kernelspec": {
   "display_name": "Python 3",
   "language": "python",
   "name": "python3"
  },
  "language_info": {
   "codemirror_mode": {
    "name": "ipython",
    "version": 3
   },
   "file_extension": ".py",
   "mimetype": "text/x-python",
   "name": "python",
   "nbconvert_exporter": "python",
   "pygments_lexer": "ipython3",
   "version": "3.8.3"
  }
 },
 "nbformat": 4,
 "nbformat_minor": 1
}
